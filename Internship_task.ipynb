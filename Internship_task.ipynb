{
  "nbformat": 4,
  "nbformat_minor": 0,
  "metadata": {
    "colab": {
      "name": "Internship_task.ipynb",
      "provenance": [],
      "collapsed_sections": [],
      "toc_visible": true,
      "mount_file_id": "1TGAqH1F9y24z_zWsHBzaL3v_oDTdY1um",
      "authorship_tag": "ABX9TyMhvjN51fL5ApBGJzvaXzaP",
      "include_colab_link": true
    },
    "kernelspec": {
      "display_name": "Python 3",
      "name": "python3"
    },
    "language_info": {
      "name": "python"
    }
  },
  "cells": [
    {
      "cell_type": "markdown",
      "metadata": {
        "id": "view-in-github",
        "colab_type": "text"
      },
      "source": [
        "<a href=\"https://colab.research.google.com/github/ipulkitg/TerraBlueXT/blob/main/Internship_task.ipynb\" target=\"_parent\"><img src=\"https://colab.research.google.com/assets/colab-badge.svg\" alt=\"Open In Colab\"/></a>"
      ]
    },
    {
      "cell_type": "markdown",
      "metadata": {
        "id": "j90Ok1HXoOjm"
      },
      "source": [
        "##Fractal Analysis"
      ]
    },
    {
      "cell_type": "code",
      "metadata": {
        "colab": {
          "base_uri": "https://localhost:8080/"
        },
        "id": "Psukvu3qozga",
        "outputId": "c947e666-6db7-4a3e-80ac-13dcb3a09f05"
      },
      "source": [
        "!pip install nolds"
      ],
      "execution_count": null,
      "outputs": [
        {
          "output_type": "stream",
          "text": [
            "Requirement already satisfied: nolds in /usr/local/lib/python3.7/dist-packages (0.5.2)\n",
            "Requirement already satisfied: setuptools in /usr/local/lib/python3.7/dist-packages (from nolds) (56.0.0)\n",
            "Requirement already satisfied: numpy in /usr/local/lib/python3.7/dist-packages (from nolds) (1.19.5)\n",
            "Requirement already satisfied: future in /usr/local/lib/python3.7/dist-packages (from nolds) (0.16.0)\n"
          ],
          "name": "stdout"
        }
      ]
    },
    {
      "cell_type": "code",
      "metadata": {
        "id": "lL-8DB-oZ_7D"
      },
      "source": [
        "#importing libraries\n",
        "import pandas as pd\n",
        "import numpy as np\n",
        "import seaborn as sns\n",
        "import matplotlib.pyplot as plt\n",
        "import imageio\n",
        "import nolds"
      ],
      "execution_count": null,
      "outputs": []
    },
    {
      "cell_type": "code",
      "metadata": {
        "colab": {
          "base_uri": "https://localhost:8080/"
        },
        "id": "IfK6-VOco6pt",
        "outputId": "51c53302-e49a-4500-f341-76f1b4f72f16"
      },
      "source": [
        "df = pd.read_csv('/content/drive/MyDrive/TerraBlue XT/intern_dataset (1).csv')\n",
        "print(len(df))"
      ],
      "execution_count": null,
      "outputs": [
        {
          "output_type": "stream",
          "text": [
            "912000\n"
          ],
          "name": "stdout"
        }
      ]
    },
    {
      "cell_type": "code",
      "metadata": {
        "colab": {
          "base_uri": "https://localhost:8080/",
          "height": 204
        },
        "id": "s_Te6xixpSfD",
        "outputId": "4e03ca74-5b96-4637-9431-346a59e968eb"
      },
      "source": [
        "df.head()"
      ],
      "execution_count": null,
      "outputs": [
        {
          "output_type": "execute_result",
          "data": {
            "text/html": [
              "<div>\n",
              "<style scoped>\n",
              "    .dataframe tbody tr th:only-of-type {\n",
              "        vertical-align: middle;\n",
              "    }\n",
              "\n",
              "    .dataframe tbody tr th {\n",
              "        vertical-align: top;\n",
              "    }\n",
              "\n",
              "    .dataframe thead th {\n",
              "        text-align: right;\n",
              "    }\n",
              "</style>\n",
              "<table border=\"1\" class=\"dataframe\">\n",
              "  <thead>\n",
              "    <tr style=\"text-align: right;\">\n",
              "      <th></th>\n",
              "      <th>Time</th>\n",
              "      <th>Signal1</th>\n",
              "      <th>Signal2</th>\n",
              "      <th>Label</th>\n",
              "    </tr>\n",
              "  </thead>\n",
              "  <tbody>\n",
              "    <tr>\n",
              "      <th>0</th>\n",
              "      <td>2017-08-14 11:37:49.791</td>\n",
              "      <td>33668.091913</td>\n",
              "      <td>0.856726</td>\n",
              "      <td>A</td>\n",
              "    </tr>\n",
              "    <tr>\n",
              "      <th>1</th>\n",
              "      <td>2017-08-14 11:37:49.801</td>\n",
              "      <td>32564.903040</td>\n",
              "      <td>0.856705</td>\n",
              "      <td>A</td>\n",
              "    </tr>\n",
              "    <tr>\n",
              "      <th>2</th>\n",
              "      <td>2017-08-14 11:37:49.811</td>\n",
              "      <td>31454.043305</td>\n",
              "      <td>0.856683</td>\n",
              "      <td>A</td>\n",
              "    </tr>\n",
              "    <tr>\n",
              "      <th>3</th>\n",
              "      <td>2017-08-14 11:37:49.821</td>\n",
              "      <td>30335.387166</td>\n",
              "      <td>0.856659</td>\n",
              "      <td>A</td>\n",
              "    </tr>\n",
              "    <tr>\n",
              "      <th>4</th>\n",
              "      <td>2017-08-14 11:37:49.831</td>\n",
              "      <td>29207.142938</td>\n",
              "      <td>0.856634</td>\n",
              "      <td>A</td>\n",
              "    </tr>\n",
              "  </tbody>\n",
              "</table>\n",
              "</div>"
            ],
            "text/plain": [
              "                      Time       Signal1   Signal2 Label\n",
              "0  2017-08-14 11:37:49.791  33668.091913  0.856726     A\n",
              "1  2017-08-14 11:37:49.801  32564.903040  0.856705     A\n",
              "2  2017-08-14 11:37:49.811  31454.043305  0.856683     A\n",
              "3  2017-08-14 11:37:49.821  30335.387166  0.856659     A\n",
              "4  2017-08-14 11:37:49.831  29207.142938  0.856634     A"
            ]
          },
          "metadata": {
            "tags": []
          },
          "execution_count": 4
        }
      ]
    },
    {
      "cell_type": "code",
      "metadata": {
        "colab": {
          "base_uri": "https://localhost:8080/",
          "height": 204
        },
        "id": "meBseBaApUoA",
        "outputId": "b93adc3a-bf61-416b-b224-c7bc34f8c9fa"
      },
      "source": [
        "df.tail()"
      ],
      "execution_count": null,
      "outputs": [
        {
          "output_type": "execute_result",
          "data": {
            "text/html": [
              "<div>\n",
              "<style scoped>\n",
              "    .dataframe tbody tr th:only-of-type {\n",
              "        vertical-align: middle;\n",
              "    }\n",
              "\n",
              "    .dataframe tbody tr th {\n",
              "        vertical-align: top;\n",
              "    }\n",
              "\n",
              "    .dataframe thead th {\n",
              "        text-align: right;\n",
              "    }\n",
              "</style>\n",
              "<table border=\"1\" class=\"dataframe\">\n",
              "  <thead>\n",
              "    <tr style=\"text-align: right;\">\n",
              "      <th></th>\n",
              "      <th>Time</th>\n",
              "      <th>Signal1</th>\n",
              "      <th>Signal2</th>\n",
              "      <th>Label</th>\n",
              "    </tr>\n",
              "  </thead>\n",
              "  <tbody>\n",
              "    <tr>\n",
              "      <th>911995</th>\n",
              "      <td>2020-01-04 10:55:49.186</td>\n",
              "      <td>34673.811155</td>\n",
              "      <td>0.151395</td>\n",
              "      <td>C</td>\n",
              "    </tr>\n",
              "    <tr>\n",
              "      <th>911996</th>\n",
              "      <td>2020-01-04 10:55:49.196</td>\n",
              "      <td>34672.951723</td>\n",
              "      <td>0.151385</td>\n",
              "      <td>C</td>\n",
              "    </tr>\n",
              "    <tr>\n",
              "      <th>911997</th>\n",
              "      <td>2020-01-04 10:55:49.206</td>\n",
              "      <td>34671.967555</td>\n",
              "      <td>0.151373</td>\n",
              "      <td>C</td>\n",
              "    </tr>\n",
              "    <tr>\n",
              "      <th>911998</th>\n",
              "      <td>2020-01-04 10:55:49.216</td>\n",
              "      <td>34670.877944</td>\n",
              "      <td>0.151359</td>\n",
              "      <td>C</td>\n",
              "    </tr>\n",
              "    <tr>\n",
              "      <th>911999</th>\n",
              "      <td>2020-01-04 10:55:49.226</td>\n",
              "      <td>34669.694865</td>\n",
              "      <td>0.151342</td>\n",
              "      <td>C</td>\n",
              "    </tr>\n",
              "  </tbody>\n",
              "</table>\n",
              "</div>"
            ],
            "text/plain": [
              "                           Time       Signal1   Signal2 Label\n",
              "911995  2020-01-04 10:55:49.186  34673.811155  0.151395     C\n",
              "911996  2020-01-04 10:55:49.196  34672.951723  0.151385     C\n",
              "911997  2020-01-04 10:55:49.206  34671.967555  0.151373     C\n",
              "911998  2020-01-04 10:55:49.216  34670.877944  0.151359     C\n",
              "911999  2020-01-04 10:55:49.226  34669.694865  0.151342     C"
            ]
          },
          "metadata": {
            "tags": []
          },
          "execution_count": 5
        }
      ]
    },
    {
      "cell_type": "code",
      "metadata": {
        "colab": {
          "base_uri": "https://localhost:8080/"
        },
        "id": "eEsrTrdPpyDV",
        "outputId": "a6e8c7bd-ae75-4e8e-9bea-8b79499315dc"
      },
      "source": [
        "#Checking for null values\n",
        "df.isnull().sum()"
      ],
      "execution_count": null,
      "outputs": [
        {
          "output_type": "execute_result",
          "data": {
            "text/plain": [
              "Time       0\n",
              "Signal1    0\n",
              "Signal2    0\n",
              "Label      0\n",
              "dtype: int64"
            ]
          },
          "metadata": {
            "tags": []
          },
          "execution_count": 6
        }
      ]
    },
    {
      "cell_type": "code",
      "metadata": {
        "colab": {
          "base_uri": "https://localhost:8080/"
        },
        "id": "75ludbIhqLiI",
        "outputId": "13fd93f6-844c-4213-fe0a-a4b174e6b3ac"
      },
      "source": [
        "df['Label'].unique()"
      ],
      "execution_count": null,
      "outputs": [
        {
          "output_type": "execute_result",
          "data": {
            "text/plain": [
              "array(['A', 'C', 'B'], dtype=object)"
            ]
          },
          "metadata": {
            "tags": []
          },
          "execution_count": 7
        }
      ]
    },
    {
      "cell_type": "code",
      "metadata": {
        "colab": {
          "base_uri": "https://localhost:8080/"
        },
        "id": "-6HyBjth3kPZ",
        "outputId": "58d828e3-5843-41c2-b885-be9f69ab6644"
      },
      "source": [
        "#seperating data based on labels\n",
        "df_A = df[df['Label'] == 'A']\n",
        "print(len(df_A))\n",
        "df_B = df[df['Label'] == 'B']\n",
        "print(len(df_B))\n",
        "df_C = df[df['Label'] == 'C']\n",
        "print(len(df_C))"
      ],
      "execution_count": null,
      "outputs": [
        {
          "output_type": "stream",
          "text": [
            "318000\n",
            "312000\n",
            "282000\n"
          ],
          "name": "stdout"
        }
      ]
    },
    {
      "cell_type": "markdown",
      "metadata": {
        "id": "0Msmsy2wa-lA"
      },
      "source": [
        "Found various repositories for hurst exponent, DFA and various packages for analysis of the data. \n",
        "\n",
        "However, I also came across a python library known as 'nolds' which can easily help to calculate complex exponents that are used to gain insights related to complexity of given time-series data."
      ]
    },
    {
      "cell_type": "markdown",
      "metadata": {
        "id": "iu_QhAcBYUz6"
      },
      "source": [
        "#Calculating Hurst exponent \n"
      ]
    },
    {
      "cell_type": "markdown",
      "metadata": {
        "id": "lLRL8wLSYa-f"
      },
      "source": [
        "##For Label 'A'"
      ]
    },
    {
      "cell_type": "code",
      "metadata": {
        "colab": {
          "base_uri": "https://localhost:8080/",
          "height": 296
        },
        "id": "and8IXvP383I",
        "outputId": "a975b358-660c-42de-abe1-efef480da6c7"
      },
      "source": [
        "series_A = np.array(df_A['Signal1'])\n",
        "alpha = nolds.dfa(series_A, overlap=True, debug_plot=True )\n",
        "print(\"DFA exponent: {}\".format(alpha), )"
      ],
      "execution_count": null,
      "outputs": [
        {
          "output_type": "display_data",
          "data": {
            "image/png": "[encoded data removed]",
            "text/plain": [
              "<Figure size 432x288 with 1 Axes>"
            ]
          },
          "metadata": {
            "tags": [],
            "needs_background": "light"
          }
        },
        {
          "output_type": "stream",
          "text": [
            "DFA exponent: 0.4887221178411362\n"
          ],
          "name": "stdout"
        }
      ]
    },
    {
      "cell_type": "code",
      "metadata": {
        "colab": {
          "base_uri": "https://localhost:8080/"
        },
        "id": "9iTlSv2ytYrH",
        "outputId": "4f6e069b-e1a0-4479-b11c-6fb5a6c9c933"
      },
      "source": [
        "series_A = np.array(df_A['Signal2'])\n",
        "alpha = nolds.dfa(series_A, )\n",
        "print(\"DFA exponent: {}\".format(alpha))"
      ],
      "execution_count": null,
      "outputs": [
        {
          "output_type": "stream",
          "text": [
            "DFA exponent: 1.8449455786251898\n"
          ],
          "name": "stdout"
        }
      ]
    },
    {
      "cell_type": "markdown",
      "metadata": {
        "id": "mqMLs1fyahSb"
      },
      "source": [
        "##For Label 'B'"
      ]
    },
    {
      "cell_type": "code",
      "metadata": {
        "colab": {
          "base_uri": "https://localhost:8080/",
          "height": 296
        },
        "id": "ITqEf9y4IVC8",
        "outputId": "f7da6f3c-3912-40f6-9abf-2e9d74efd038"
      },
      "source": [
        "series_B = np.array(df_B['Signal1'])\n",
        "alpha = nolds.dfa(series_B,overlap = True,debug_plot=True)\n",
        "print(\"DFA exponent: {}\".format(alpha))"
      ],
      "execution_count": null,
      "outputs": [
        {
          "output_type": "display_data",
          "data": {
            "image/png": "[encoded data removed]",
            "text/plain": [
              "<Figure size 432x288 with 1 Axes>"
            ]
          },
          "metadata": {
            "tags": [],
            "needs_background": "light"
          }
        },
        {
          "output_type": "stream",
          "text": [
            "DFA exponent: 0.5472754646426637\n"
          ],
          "name": "stdout"
        }
      ]
    },
    {
      "cell_type": "code",
      "metadata": {
        "colab": {
          "base_uri": "https://localhost:8080/"
        },
        "id": "s4hCVeBmIVC_",
        "outputId": "cb79feae-6001-460e-b093-323643d621d9"
      },
      "source": [
        "series_B = np.array(df_B['Signal2'])\n",
        "alpha = nolds.dfa(series_B)\n",
        "print(\"DFA exponent: {}\".format(alpha))"
      ],
      "execution_count": null,
      "outputs": [
        {
          "output_type": "stream",
          "text": [
            "DFA exponent: 1.8176714270845755\n"
          ],
          "name": "stdout"
        }
      ]
    },
    {
      "cell_type": "markdown",
      "metadata": {
        "id": "l45CHZAGaoQI"
      },
      "source": [
        "##For Label 'C'"
      ]
    },
    {
      "cell_type": "code",
      "metadata": {
        "colab": {
          "base_uri": "https://localhost:8080/",
          "height": 296
        },
        "id": "V7_ekhVwIUXg",
        "outputId": "6115b453-2be6-4d4a-e1b5-9d811d646d5d"
      },
      "source": [
        "series_C = np.array(df_C['Signal1'])\n",
        "alpha = nolds.dfa(series_C,overlap = True,debug_plot=True )\n",
        "print(\"DFA exponent: {}\".format(alpha))"
      ],
      "execution_count": null,
      "outputs": [
        {
          "output_type": "display_data",
          "data": {
            "image/png": "[encoded data removed]",
            "text/plain": [
              "<Figure size 432x288 with 1 Axes>"
            ]
          },
          "metadata": {
            "tags": [],
            "needs_background": "light"
          }
        },
        {
          "output_type": "stream",
          "text": [
            "DFA exponent: 0.6795753276194875\n"
          ],
          "name": "stdout"
        }
      ]
    },
    {
      "cell_type": "code",
      "metadata": {
        "colab": {
          "base_uri": "https://localhost:8080/"
        },
        "id": "DPrZ6fEnIUXh",
        "outputId": "f7a4352b-de49-4f95-8834-56c469e04197"
      },
      "source": [
        "series_C = np.array(df_C['Signal2'])\n",
        "alpha = nolds.dfa(series_C, )\n",
        "print(\"DFA exponent: {}\".format(alpha))"
      ],
      "execution_count": null,
      "outputs": [
        {
          "output_type": "stream",
          "text": [
            "DFA exponent: 1.7160380861830327\n"
          ],
          "name": "stdout"
        }
      ]
    },
    {
      "cell_type": "markdown",
      "metadata": {
        "id": "ml5rRR0bbjcc"
      },
      "source": [
        "The data is large and it takes sometime to run the problem, but as we can see,DFA Exponent value for Signal1 is conclusive because the optimum value of the exponent lies in the range [0,1] and the values of their corresponding exponent are:\n",
        "\n",
        "For Label A - 0.53\n",
        "\n",
        "For Label B - 0.54\n",
        "\n",
        "For Label C - 0.67\n",
        "\n",
        "so we can easily conclude by the value of exponent that signal A and signal B are relatively similiar to each other. Also the optimum value of this exponent lies above 0.5 and so we can easily conclude that label C is more complex for Signal 1.\n"
      ]
    },
    {
      "cell_type": "markdown",
      "metadata": {
        "id": "IYS48oASlTeq"
      },
      "source": [
        "However, in the case of Signal 2 the corresponding values are:\n",
        "\n",
        "For Label A - 1.84\n",
        "\n",
        "For Label B - 1.81\n",
        "\n",
        "For Label C - 1.71\n",
        "\n",
        "This is not conclusive and we will be using other complex methods like lyapunov exponent for this."
      ]
    },
    {
      "cell_type": "markdown",
      "metadata": {
        "id": "E4Y-7dKal936"
      },
      "source": [
        "##For Label 'A'"
      ]
    },
    {
      "cell_type": "code",
      "metadata": {
        "colab": {
          "base_uri": "https://localhost:8080/",
          "height": 384
        },
        "id": "lMERoRF1AttT",
        "outputId": "9f3f6e94-aa97-465c-8d6b-2883fdef28af"
      },
      "source": [
        "series_A = np.array(df_A['Signal2'])\n",
        "alpha = nolds.lyap_r(series_A[:10000], debug_plot=True )\n",
        "print(\"Lyapunov exponent for A: {}\".format(alpha))"
      ],
      "execution_count": null,
      "outputs": [
        {
          "output_type": "stream",
          "text": [
            "/usr/local/lib/python3.7/dist-packages/nolds/measures.py:240: RuntimeWarning: signal has very low mean frequency, setting min_tsep = 2500\n",
            "  warnings.warn(msg.format(min_tsep), RuntimeWarning)\n",
            "/usr/local/lib/python3.7/dist-packages/nolds/measures.py:268: RuntimeWarning: autocorrelation declined too slowly to find suitable lag, setting lag to 552\n",
            "  warnings.warn(msg.format(lag), RuntimeWarning)\n"
          ],
          "name": "stderr"
        },
        {
          "output_type": "display_data",
          "data": {
            "image/png": "[encoded data removed]",
            "text/plain": [
              "<Figure size 432x288 with 1 Axes>"
            ]
          },
          "metadata": {
            "tags": [],
            "needs_background": "light"
          }
        },
        {
          "output_type": "stream",
          "text": [
            "Lyapunov exponent for A: 8.140650010644423e-05\n"
          ],
          "name": "stdout"
        }
      ]
    },
    {
      "cell_type": "markdown",
      "metadata": {
        "id": "ta83H5UCmWIR"
      },
      "source": [
        "##For Label 'B'"
      ]
    },
    {
      "cell_type": "code",
      "metadata": {
        "colab": {
          "base_uri": "https://localhost:8080/",
          "height": 384
        },
        "id": "rAtk7eHwi7Zd",
        "outputId": "ed3593c3-a75c-4a07-9b65-f24d5aed94e0"
      },
      "source": [
        "series_B = np.array(df_B['Signal2'])\n",
        "alpha = nolds.lyap_r(series_B[:10000], debug_plot=True )\n",
        "print(\"Lyapunov exponent for B: {}\".format(alpha))"
      ],
      "execution_count": null,
      "outputs": [
        {
          "output_type": "stream",
          "text": [
            "/usr/local/lib/python3.7/dist-packages/nolds/measures.py:240: RuntimeWarning: signal has very low mean frequency, setting min_tsep = 2500\n",
            "  warnings.warn(msg.format(min_tsep), RuntimeWarning)\n",
            "/usr/local/lib/python3.7/dist-packages/nolds/measures.py:268: RuntimeWarning: autocorrelation declined too slowly to find suitable lag, setting lag to 552\n",
            "  warnings.warn(msg.format(lag), RuntimeWarning)\n"
          ],
          "name": "stderr"
        },
        {
          "output_type": "display_data",
          "data": {
            "image/png": "[encoded data removed]",
            "text/plain": [
              "<Figure size 432x288 with 1 Axes>"
            ]
          },
          "metadata": {
            "tags": [],
            "needs_background": "light"
          }
        },
        {
          "output_type": "stream",
          "text": [
            "Lyapunov exponent for B: -3.0287019498362825e-06\n"
          ],
          "name": "stdout"
        }
      ]
    },
    {
      "cell_type": "markdown",
      "metadata": {
        "id": "-R-CTeNbmaBR"
      },
      "source": [
        "##For Label 'C'"
      ]
    },
    {
      "cell_type": "code",
      "metadata": {
        "colab": {
          "base_uri": "https://localhost:8080/",
          "height": 384
        },
        "id": "Ep5WrSyki7uV",
        "outputId": "e61ea30f-3c67-44b8-f8a9-cb5bec4c6e54"
      },
      "source": [
        "series_C = np.array(df_C['Signal2'])\n",
        "alpha = nolds.lyap_r(series_C[:10000], debug_plot=True )\n",
        "print(\"Lyapunov exponent for C: {}\".format(alpha))"
      ],
      "execution_count": null,
      "outputs": [
        {
          "output_type": "stream",
          "text": [
            "/usr/local/lib/python3.7/dist-packages/nolds/measures.py:240: RuntimeWarning: signal has very low mean frequency, setting min_tsep = 2500\n",
            "  warnings.warn(msg.format(min_tsep), RuntimeWarning)\n",
            "/usr/local/lib/python3.7/dist-packages/nolds/measures.py:268: RuntimeWarning: autocorrelation declined too slowly to find suitable lag, setting lag to 552\n",
            "  warnings.warn(msg.format(lag), RuntimeWarning)\n"
          ],
          "name": "stderr"
        },
        {
          "output_type": "display_data",
          "data": {
            "image/png": "[encoded data removed]",
            "text/plain": [
              "<Figure size 432x288 with 1 Axes>"
            ]
          },
          "metadata": {
            "tags": [],
            "needs_background": "light"
          }
        },
        {
          "output_type": "stream",
          "text": [
            "Lyapunov exponent for C: 0.0003339348258553014\n"
          ],
          "name": "stdout"
        }
      ]
    },
    {
      "cell_type": "markdown",
      "metadata": {
        "id": "D_gc2slKmuaC"
      },
      "source": [
        "The function lyap_r stimates the largest Lyapunov exponent using the algorithm of Rosenstein et a. The calculated values for all the signals are:\n",
        "\n",
        "Label A -> 8.14065\n",
        "\n",
        "Label B -> -3.0287\n",
        "\n",
        "Label C -> 0.00029\n",
        "\n",
        "With Label B having a negative lyapunov exponent value. It can easily be concluded that Label B is the most complex in terms of signal 2."
      ]
    }
  ]
}